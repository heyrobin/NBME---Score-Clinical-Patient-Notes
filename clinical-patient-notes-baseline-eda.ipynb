{
 "cells": [
  {
   "cell_type": "markdown",
   "id": "99c3a16d",
   "metadata": {
    "papermill": {
     "duration": 0.033892,
     "end_time": "2022-02-05T10:05:31.677471",
     "exception": false,
     "start_time": "2022-02-05T10:05:31.643579",
     "status": "completed"
    },
    "tags": []
   },
   "source": [
    "# <center>⚕️Clinical Patient Notes | Baseline EDA💊\n",
    "    \n",
    "## <center> If you liked the notebook make me smile with an upvote 😼\n",
    "    \n",
    "<a id=\"1\"></a>"
   ]
  },
  {
   "cell_type": "markdown",
   "id": "e7c3ae07",
   "metadata": {
    "papermill": {
     "duration": 0.034952,
     "end_time": "2022-02-05T10:05:31.742355",
     "exception": false,
     "start_time": "2022-02-05T10:05:31.707403",
     "status": "completed"
    },
    "tags": []
   },
   "source": [
    "\n",
    "\n",
    "<center><img src=\"https://github.com/heyrobin/NBME---Score-Clinical-Patient-Notes/blob/main/banner.jpg?raw=true\" alt=\"\"> </center>"
   ]
  },
  {
   "cell_type": "markdown",
   "id": "12f3eeda",
   "metadata": {
    "papermill": {
     "duration": 0.033237,
     "end_time": "2022-02-05T10:05:31.812861",
     "exception": false,
     "start_time": "2022-02-05T10:05:31.779624",
     "status": "completed"
    },
    "tags": []
   },
   "source": [
    "<center><span style=\"color:#070c23;font-weight:bold\"> <span style=\"background:#e9d9c8\"> 📌 In this competition, We have to identify specific clinical concepts in `patient notes` and develop and automated method to map clinical concepts from an excam rubic. we will understand the dataset and explore data </span></center>"
   ]
  },
  {
   "cell_type": "markdown",
   "id": "537b0896",
   "metadata": {
    "papermill": {
     "duration": 0.026026,
     "end_time": "2022-02-05T10:05:31.867076",
     "exception": false,
     "start_time": "2022-02-05T10:05:31.841050",
     "status": "completed"
    },
    "tags": []
   },
   "source": [
    "**<span style=\"color:#cd7551;\"> <span style=\"font-size:200%\">  TABLE CONTENT</span>**\n",
    "\n",
    "\n",
    "* [Importing Libraries & Dataset](#2)\n",
    "* [Exloratory Data Analysis](#3)\n",
    "* [Train](#4)\n",
    "* [Test](#5)\n",
    "* [Patient Note](#6)\n",
    "* [Features](#7)"
   ]
  },
  {
   "cell_type": "markdown",
   "id": "ef2a51bc",
   "metadata": {
    "papermill": {
     "duration": 0.023774,
     "end_time": "2022-02-05T10:05:31.915017",
     "exception": false,
     "start_time": "2022-02-05T10:05:31.891243",
     "status": "completed"
    },
    "tags": []
   },
   "source": [
    "<a id=\"2\"></a>\n",
    "<center><h1><span style=\"color:#e8c195;font-weight:bold\"> <span style=\"background:#070c23\"> 📕 Importing Libraries and Datasets </span></span></h1></center>"
   ]
  },
  {
   "cell_type": "code",
   "execution_count": 1,
   "id": "b366d76c",
   "metadata": {
    "execution": {
     "iopub.execute_input": "2022-02-05T10:05:31.974315Z",
     "iopub.status.busy": "2022-02-05T10:05:31.973018Z",
     "iopub.status.idle": "2022-02-05T10:05:33.058495Z",
     "shell.execute_reply": "2022-02-05T10:05:33.059031Z",
     "shell.execute_reply.started": "2022-02-05T08:56:03.580638Z"
    },
    "papermill": {
     "duration": 1.120222,
     "end_time": "2022-02-05T10:05:33.059334",
     "exception": false,
     "start_time": "2022-02-05T10:05:31.939112",
     "status": "completed"
    },
    "tags": []
   },
   "outputs": [],
   "source": [
    "import numpy as np\n",
    "import pandas as pd\n",
    "\n",
    "import seaborn as sns\n",
    "import matplotlib.pyplot as plt\n",
    "\n",
    "import warnings\n",
    "warnings.filterwarnings(\"ignore\")"
   ]
  },
  {
   "cell_type": "code",
   "execution_count": 2,
   "id": "b79caf07",
   "metadata": {
    "_kg_hide-input": true,
    "execution": {
     "iopub.execute_input": "2022-02-05T10:05:33.113318Z",
     "iopub.status.busy": "2022-02-05T10:05:33.112273Z",
     "iopub.status.idle": "2022-02-05T10:05:33.235020Z",
     "shell.execute_reply": "2022-02-05T10:05:33.234133Z",
     "shell.execute_reply.started": "2022-02-05T09:57:32.002603Z"
    },
    "papermill": {
     "duration": 0.151642,
     "end_time": "2022-02-05T10:05:33.235258",
     "exception": false,
     "start_time": "2022-02-05T10:05:33.083616",
     "status": "completed"
    },
    "tags": []
   },
   "outputs": [
    {
     "data": {
      "image/png": "[encoded data removed]",
      "text/plain": [
       "<Figure size 648x72 with 1 Axes>"
      ]
     },
     "metadata": {
      "needs_background": "light"
     },
     "output_type": "display_data"
    }
   ],
   "source": [
    "#Parameters for Plots\n",
    "plt.rcParams['figure.figsize'] = (10,6)\n",
    "plt.rcParams['axes.edgecolor'] = 'black'\n",
    "plt.rcParams['axes.linewidth'] = 1.5\n",
    "plt.rcParams['figure.frameon'] = True\n",
    "plt.rcParams['axes.spines.top'] = False\n",
    "plt.rcParams['axes.spines.right'] = False\n",
    "plt.rcParams[\"font.family\"] = \"monospace\";\n",
    "\n",
    "#Colors for charts\n",
    "colors = [\"#e9d9c8\",\"#cca383\",\"#070c23\",\"#f82d06\",\"#e8c195\",\"#cd7551\",\"#a49995\",\"#a3a49c\",\"#6c7470\"]\n",
    "sns.palplot(sns.color_palette(colors))"
   ]
  },
  {
   "cell_type": "code",
   "execution_count": 3,
   "id": "c44340ed",
   "metadata": {
    "execution": {
     "iopub.execute_input": "2022-02-05T10:05:33.327352Z",
     "iopub.status.busy": "2022-02-05T10:05:33.326697Z",
     "iopub.status.idle": "2022-02-05T10:05:34.398845Z",
     "shell.execute_reply": "2022-02-05T10:05:34.399379Z",
     "shell.execute_reply.started": "2022-02-05T08:56:04.657894Z"
    },
    "papermill": {
     "duration": 1.117549,
     "end_time": "2022-02-05T10:05:34.399568",
     "exception": false,
     "start_time": "2022-02-05T10:05:33.282019",
     "status": "completed"
    },
    "tags": []
   },
   "outputs": [],
   "source": [
    "train_df = pd.read_csv('../input/nbme-score-clinical-patient-notes/train.csv')\n",
    "test_df = pd.read_csv('../input/nbme-score-clinical-patient-notes/test.csv')\n",
    "pn_df = pd.read_csv('../input/nbme-score-clinical-patient-notes/patient_notes.csv')\n",
    "feat_df = pd.read_csv('../input/nbme-score-clinical-patient-notes/features.csv')"
   ]
  },
  {
   "cell_type": "markdown",
   "id": "b3e1a72a",
   "metadata": {
    "papermill": {
     "duration": 0.024128,
     "end_time": "2022-02-05T10:05:34.448533",
     "exception": false,
     "start_time": "2022-02-05T10:05:34.424405",
     "status": "completed"
    },
    "tags": []
   },
   "source": [
    "<a id=\"3\"></a>\n",
    "<center><h1><span style=\"color:#e8c195;font-weight:bold\"> <span style=\"background:#070c23\"> 🍚 EDA </span></span></h1></center>"
   ]
  },
  {
   "cell_type": "markdown",
   "id": "bcdfc27a",
   "metadata": {
    "papermill": {
     "duration": 0.024858,
     "end_time": "2022-02-05T10:05:34.499329",
     "exception": false,
     "start_time": "2022-02-05T10:05:34.474471",
     "status": "completed"
    },
    "tags": []
   },
   "source": [
    "<a id=\"4\"></a>\n",
    "<h2><span style=\"color:#cd7551;font-weight:bold\"> Train </span></h2>"
   ]
  },
  {
   "cell_type": "markdown",
   "id": "c62d5d48",
   "metadata": {
    "papermill": {
     "duration": 0.024145,
     "end_time": "2022-02-05T10:05:34.548766",
     "exception": false,
     "start_time": "2022-02-05T10:05:34.524621",
     "status": "completed"
    },
    "tags": []
   },
   "source": [
    "Feature annotations for 1000 of the patient notes, 100 for each of ten cases.\n",
    "<ul><li><code>id</code> - Unique identifier for each patient note / feature pair.</li>\n",
    "<li><code>pn_num</code> - The patient note annotated in this row.</li>\n",
    "<li><code>feature_num</code> - The feature annotated in this row.</li>\n",
    "<li><code>case_num</code> - The case to which this patient note belongs.</li>\n",
    "<li><code>annotation</code> - The text(s) within a patient note indicating a feature. A feature may be indicated multiple times within a single note.</li>\n",
    "<li><code>location</code> - Character spans indicating the location of each annotation within the note. Multiple spans may be needed to represent an annotation, in which case the spans are delimited by a semicolon <code>;</code>.</li></ul></li>"
   ]
  },
  {
   "cell_type": "code",
   "execution_count": 4,
   "id": "d2fa54e8",
   "metadata": {
    "execution": {
     "iopub.execute_input": "2022-02-05T10:05:34.608939Z",
     "iopub.status.busy": "2022-02-05T10:05:34.607895Z",
     "iopub.status.idle": "2022-02-05T10:05:34.622736Z",
     "shell.execute_reply": "2022-02-05T10:05:34.623320Z",
     "shell.execute_reply.started": "2022-02-05T08:56:05.561326Z"
    },
    "papermill": {
     "duration": 0.050116,
     "end_time": "2022-02-05T10:05:34.623497",
     "exception": false,
     "start_time": "2022-02-05T10:05:34.573381",
     "status": "completed"
    },
    "tags": []
   },
   "outputs": [
    {
     "data": {
      "text/html": [
       "<div>\n",
       "<style scoped>\n",
       "    .dataframe tbody tr th:only-of-type {\n",
       "        vertical-align: middle;\n",
       "    }\n",
       "\n",
       "    .dataframe tbody tr th {\n",
       "        vertical-align: top;\n",
       "    }\n",
       "\n",
       "    .dataframe thead th {\n",
       "        text-align: right;\n",
       "    }\n",
       "</style>\n",
       "<table border=\"1\" class=\"dataframe\">\n",
       "  <thead>\n",
       "    <tr style=\"text-align: right;\">\n",
       "      <th></th>\n",
       "      <th>id</th>\n",
       "      <th>case_num</th>\n",
       "      <th>pn_num</th>\n",
       "      <th>feature_num</th>\n",
       "      <th>annotation</th>\n",
       "      <th>location</th>\n",
       "    </tr>\n",
       "  </thead>\n",
       "  <tbody>\n",
       "    <tr>\n",
       "      <th>0</th>\n",
       "      <td>00016_000</td>\n",
       "      <td>0</td>\n",
       "      <td>16</td>\n",
       "      <td>0</td>\n",
       "      <td>['dad with recent heart attcak']</td>\n",
       "      <td>['696 724']</td>\n",
       "    </tr>\n",
       "    <tr>\n",
       "      <th>1</th>\n",
       "      <td>00016_001</td>\n",
       "      <td>0</td>\n",
       "      <td>16</td>\n",
       "      <td>1</td>\n",
       "      <td>['mom with \"thyroid disease']</td>\n",
       "      <td>['668 693']</td>\n",
       "    </tr>\n",
       "    <tr>\n",
       "      <th>2</th>\n",
       "      <td>00016_002</td>\n",
       "      <td>0</td>\n",
       "      <td>16</td>\n",
       "      <td>2</td>\n",
       "      <td>['chest pressure']</td>\n",
       "      <td>['203 217']</td>\n",
       "    </tr>\n",
       "    <tr>\n",
       "      <th>3</th>\n",
       "      <td>00016_003</td>\n",
       "      <td>0</td>\n",
       "      <td>16</td>\n",
       "      <td>3</td>\n",
       "      <td>['intermittent episodes', 'episode']</td>\n",
       "      <td>['70 91', '176 183']</td>\n",
       "    </tr>\n",
       "    <tr>\n",
       "      <th>4</th>\n",
       "      <td>00016_004</td>\n",
       "      <td>0</td>\n",
       "      <td>16</td>\n",
       "      <td>4</td>\n",
       "      <td>['felt as if he were going to pass out']</td>\n",
       "      <td>['222 258']</td>\n",
       "    </tr>\n",
       "    <tr>\n",
       "      <th>...</th>\n",
       "      <td>...</td>\n",
       "      <td>...</td>\n",
       "      <td>...</td>\n",
       "      <td>...</td>\n",
       "      <td>...</td>\n",
       "      <td>...</td>\n",
       "    </tr>\n",
       "    <tr>\n",
       "      <th>14295</th>\n",
       "      <td>95333_912</td>\n",
       "      <td>9</td>\n",
       "      <td>95333</td>\n",
       "      <td>912</td>\n",
       "      <td>[]</td>\n",
       "      <td>[]</td>\n",
       "    </tr>\n",
       "    <tr>\n",
       "      <th>14296</th>\n",
       "      <td>95333_913</td>\n",
       "      <td>9</td>\n",
       "      <td>95333</td>\n",
       "      <td>913</td>\n",
       "      <td>[]</td>\n",
       "      <td>[]</td>\n",
       "    </tr>\n",
       "    <tr>\n",
       "      <th>14297</th>\n",
       "      <td>95333_914</td>\n",
       "      <td>9</td>\n",
       "      <td>95333</td>\n",
       "      <td>914</td>\n",
       "      <td>['photobia']</td>\n",
       "      <td>['274 282']</td>\n",
       "    </tr>\n",
       "    <tr>\n",
       "      <th>14298</th>\n",
       "      <td>95333_915</td>\n",
       "      <td>9</td>\n",
       "      <td>95333</td>\n",
       "      <td>915</td>\n",
       "      <td>['no sick contacts']</td>\n",
       "      <td>['421 437']</td>\n",
       "    </tr>\n",
       "    <tr>\n",
       "      <th>14299</th>\n",
       "      <td>95333_916</td>\n",
       "      <td>9</td>\n",
       "      <td>95333</td>\n",
       "      <td>916</td>\n",
       "      <td>['Subjective fever']</td>\n",
       "      <td>['314 330']</td>\n",
       "    </tr>\n",
       "  </tbody>\n",
       "</table>\n",
       "<p>14300 rows × 6 columns</p>\n",
       "</div>"
      ],
      "text/plain": [
       "              id  case_num  pn_num  feature_num  \\\n",
       "0      00016_000         0      16            0   \n",
       "1      00016_001         0      16            1   \n",
       "2      00016_002         0      16            2   \n",
       "3      00016_003         0      16            3   \n",
       "4      00016_004         0      16            4   \n",
       "...          ...       ...     ...          ...   \n",
       "14295  95333_912         9   95333          912   \n",
       "14296  95333_913         9   95333          913   \n",
       "14297  95333_914         9   95333          914   \n",
       "14298  95333_915         9   95333          915   \n",
       "14299  95333_916         9   95333          916   \n",
       "\n",
       "                                     annotation              location  \n",
       "0              ['dad with recent heart attcak']           ['696 724']  \n",
       "1                 ['mom with \"thyroid disease']           ['668 693']  \n",
       "2                            ['chest pressure']           ['203 217']  \n",
       "3          ['intermittent episodes', 'episode']  ['70 91', '176 183']  \n",
       "4      ['felt as if he were going to pass out']           ['222 258']  \n",
       "...                                         ...                   ...  \n",
       "14295                                        []                    []  \n",
       "14296                                        []                    []  \n",
       "14297                              ['photobia']           ['274 282']  \n",
       "14298                      ['no sick contacts']           ['421 437']  \n",
       "14299                      ['Subjective fever']           ['314 330']  \n",
       "\n",
       "[14300 rows x 6 columns]"
      ]
     },
     "execution_count": 4,
     "metadata": {},
     "output_type": "execute_result"
    }
   ],
   "source": [
    "train_df"
   ]
  },
  {
   "cell_type": "code",
   "execution_count": 5,
   "id": "96841158",
   "metadata": {
    "execution": {
     "iopub.execute_input": "2022-02-05T10:05:34.676603Z",
     "iopub.status.busy": "2022-02-05T10:05:34.675972Z",
     "iopub.status.idle": "2022-02-05T10:05:34.687912Z",
     "shell.execute_reply": "2022-02-05T10:05:34.688377Z",
     "shell.execute_reply.started": "2022-02-05T08:56:05.589880Z"
    },
    "papermill": {
     "duration": 0.040108,
     "end_time": "2022-02-05T10:05:34.688595",
     "exception": false,
     "start_time": "2022-02-05T10:05:34.648487",
     "status": "completed"
    },
    "tags": []
   },
   "outputs": [
    {
     "name": "stdout",
     "output_type": "stream",
     "text": [
      "\u001b[93mTrain Dataframe got 14300 rows and 6 columns. It has 0 missing values\n"
     ]
    }
   ],
   "source": [
    "print(f'\\033[93mTrain Dataframe got {train_df.shape[0]} rows and {train_df.shape[1]} columns. It has {train_df.isna().sum().sum()} missing values')"
   ]
  },
  {
   "cell_type": "markdown",
   "id": "0de3671e",
   "metadata": {
    "papermill": {
     "duration": 0.025097,
     "end_time": "2022-02-05T10:05:34.739222",
     "exception": false,
     "start_time": "2022-02-05T10:05:34.714125",
     "status": "completed"
    },
    "tags": []
   },
   "source": [
    "📌 **after observing there are some columns which shows '[]' a empty bracket. Hence we have some missing values with []**"
   ]
  },
  {
   "cell_type": "code",
   "execution_count": 6,
   "id": "26928fad",
   "metadata": {
    "execution": {
     "iopub.execute_input": "2022-02-05T10:05:34.798165Z",
     "iopub.status.busy": "2022-02-05T10:05:34.797515Z",
     "iopub.status.idle": "2022-02-05T10:05:34.812032Z",
     "shell.execute_reply": "2022-02-05T10:05:34.811384Z",
     "shell.execute_reply.started": "2022-02-05T08:56:05.605421Z"
    },
    "papermill": {
     "duration": 0.047743,
     "end_time": "2022-02-05T10:05:34.812171",
     "exception": false,
     "start_time": "2022-02-05T10:05:34.764428",
     "status": "completed"
    },
    "tags": []
   },
   "outputs": [
    {
     "data": {
      "text/plain": [
       "id             14300\n",
       "case_num          10\n",
       "pn_num          1000\n",
       "feature_num      143\n",
       "annotation      5201\n",
       "location        7534\n",
       "dtype: int64"
      ]
     },
     "execution_count": 6,
     "metadata": {},
     "output_type": "execute_result"
    }
   ],
   "source": [
    "train_df.nunique()"
   ]
  },
  {
   "cell_type": "code",
   "execution_count": 7,
   "id": "355a088f",
   "metadata": {
    "_kg_hide-input": true,
    "execution": {
     "iopub.execute_input": "2022-02-05T10:05:34.874870Z",
     "iopub.status.busy": "2022-02-05T10:05:34.874193Z",
     "iopub.status.idle": "2022-02-05T10:05:35.158227Z",
     "shell.execute_reply": "2022-02-05T10:05:35.157549Z",
     "shell.execute_reply.started": "2022-02-05T09:51:31.651093Z"
    },
    "papermill": {
     "duration": 0.320563,
     "end_time": "2022-02-05T10:05:35.158372",
     "exception": false,
     "start_time": "2022-02-05T10:05:34.837809",
     "status": "completed"
    },
    "tags": []
   },
   "outputs": [
    {
     "data": {
      "image/png": "[encoded data removed]",
      "text/plain": [
       "<Figure size 720x432 with 1 Axes>"
      ]
     },
     "metadata": {
      "needs_background": "light"
     },
     "output_type": "display_data"
    }
   ],
   "source": [
    "#plot\n",
    "A = sns.countplot(train_df['case_num'],\n",
    "              color=colors[1],\n",
    "              edgecolor='white',\n",
    "              linewidth=1.5,\n",
    "              saturation=1.5)\n",
    "\n",
    "#Patch\n",
    "patch_h = []    \n",
    "for patch in A.patches:\n",
    "    reading = patch.get_height()\n",
    "    patch_h.append(reading)\n",
    "    \n",
    "idx_tallest = np.argmax(patch_h)    \n",
    "A.patches[idx_tallest].set_facecolor(colors[3])\n",
    "\n",
    "#Lables\n",
    "plt.ylabel('Count', weight='semibold', fontname = 'Georgia')\n",
    "plt.xlabel('Cases', weight='semibold', fontname = 'Georgia')\n",
    "plt.suptitle('Number of Cases', fontname = 'Georgia', weight='bold', size = 18, color = colors[2])\n",
    "A.bar_label(A.containers[0], label_type='edge')\n",
    "\n",
    "plt.show()"
   ]
  },
  {
   "cell_type": "markdown",
   "id": "b5c148fe",
   "metadata": {
    "papermill": {
     "duration": 0.026787,
     "end_time": "2022-02-05T10:05:35.212209",
     "exception": false,
     "start_time": "2022-02-05T10:05:35.185422",
     "status": "completed"
    },
    "tags": []
   },
   "source": [
    "<a id=\"5\"></a>\n",
    "<h2><span style=\"color:#cd7551;font-weight:bold\"> Test </span></h2>"
   ]
  },
  {
   "cell_type": "code",
   "execution_count": 8,
   "id": "6951b72d",
   "metadata": {
    "execution": {
     "iopub.execute_input": "2022-02-05T10:05:35.269296Z",
     "iopub.status.busy": "2022-02-05T10:05:35.268669Z",
     "iopub.status.idle": "2022-02-05T10:05:35.277489Z",
     "shell.execute_reply": "2022-02-05T10:05:35.278140Z",
     "shell.execute_reply.started": "2022-02-05T08:56:05.920038Z"
    },
    "papermill": {
     "duration": 0.039125,
     "end_time": "2022-02-05T10:05:35.278312",
     "exception": false,
     "start_time": "2022-02-05T10:05:35.239187",
     "status": "completed"
    },
    "tags": []
   },
   "outputs": [
    {
     "data": {
      "text/html": [
       "<div>\n",
       "<style scoped>\n",
       "    .dataframe tbody tr th:only-of-type {\n",
       "        vertical-align: middle;\n",
       "    }\n",
       "\n",
       "    .dataframe tbody tr th {\n",
       "        vertical-align: top;\n",
       "    }\n",
       "\n",
       "    .dataframe thead th {\n",
       "        text-align: right;\n",
       "    }\n",
       "</style>\n",
       "<table border=\"1\" class=\"dataframe\">\n",
       "  <thead>\n",
       "    <tr style=\"text-align: right;\">\n",
       "      <th></th>\n",
       "      <th>id</th>\n",
       "      <th>case_num</th>\n",
       "      <th>pn_num</th>\n",
       "      <th>feature_num</th>\n",
       "    </tr>\n",
       "  </thead>\n",
       "  <tbody>\n",
       "    <tr>\n",
       "      <th>0</th>\n",
       "      <td>00016_000</td>\n",
       "      <td>0</td>\n",
       "      <td>16</td>\n",
       "      <td>0</td>\n",
       "    </tr>\n",
       "    <tr>\n",
       "      <th>1</th>\n",
       "      <td>00016_001</td>\n",
       "      <td>0</td>\n",
       "      <td>16</td>\n",
       "      <td>1</td>\n",
       "    </tr>\n",
       "    <tr>\n",
       "      <th>2</th>\n",
       "      <td>00016_002</td>\n",
       "      <td>0</td>\n",
       "      <td>16</td>\n",
       "      <td>2</td>\n",
       "    </tr>\n",
       "    <tr>\n",
       "      <th>3</th>\n",
       "      <td>00016_003</td>\n",
       "      <td>0</td>\n",
       "      <td>16</td>\n",
       "      <td>3</td>\n",
       "    </tr>\n",
       "    <tr>\n",
       "      <th>4</th>\n",
       "      <td>00016_004</td>\n",
       "      <td>0</td>\n",
       "      <td>16</td>\n",
       "      <td>4</td>\n",
       "    </tr>\n",
       "  </tbody>\n",
       "</table>\n",
       "</div>"
      ],
      "text/plain": [
       "          id  case_num  pn_num  feature_num\n",
       "0  00016_000         0      16            0\n",
       "1  00016_001         0      16            1\n",
       "2  00016_002         0      16            2\n",
       "3  00016_003         0      16            3\n",
       "4  00016_004         0      16            4"
      ]
     },
     "execution_count": 8,
     "metadata": {},
     "output_type": "execute_result"
    }
   ],
   "source": [
    "test_df"
   ]
  },
  {
   "cell_type": "code",
   "execution_count": 9,
   "id": "c7f84612",
   "metadata": {
    "execution": {
     "iopub.execute_input": "2022-02-05T10:05:35.335797Z",
     "iopub.status.busy": "2022-02-05T10:05:35.335162Z",
     "iopub.status.idle": "2022-02-05T10:05:35.342346Z",
     "shell.execute_reply": "2022-02-05T10:05:35.341850Z",
     "shell.execute_reply.started": "2022-02-05T08:56:05.931560Z"
    },
    "papermill": {
     "duration": 0.03713,
     "end_time": "2022-02-05T10:05:35.342499",
     "exception": false,
     "start_time": "2022-02-05T10:05:35.305369",
     "status": "completed"
    },
    "tags": []
   },
   "outputs": [
    {
     "name": "stdout",
     "output_type": "stream",
     "text": [
      "\u001b[93mTest Dataframe got 5 rows and 4 columns. It has 0 missing values\n"
     ]
    }
   ],
   "source": [
    "print(f'\\033[93mTest Dataframe got {test_df.shape[0]} rows and {test_df.shape[1]} columns. It has {test_df.isna().sum().sum()} missing values')"
   ]
  },
  {
   "cell_type": "code",
   "execution_count": 10,
   "id": "00d774d0",
   "metadata": {
    "execution": {
     "iopub.execute_input": "2022-02-05T10:05:35.401886Z",
     "iopub.status.busy": "2022-02-05T10:05:35.400892Z",
     "iopub.status.idle": "2022-02-05T10:05:35.408507Z",
     "shell.execute_reply": "2022-02-05T10:05:35.409171Z",
     "shell.execute_reply.started": "2022-02-05T08:56:05.945385Z"
    },
    "papermill": {
     "duration": 0.03908,
     "end_time": "2022-02-05T10:05:35.409346",
     "exception": false,
     "start_time": "2022-02-05T10:05:35.370266",
     "status": "completed"
    },
    "tags": []
   },
   "outputs": [
    {
     "data": {
      "text/plain": [
       "id             5\n",
       "case_num       1\n",
       "pn_num         1\n",
       "feature_num    5\n",
       "dtype: int64"
      ]
     },
     "execution_count": 10,
     "metadata": {},
     "output_type": "execute_result"
    }
   ],
   "source": [
    "test_df.nunique()"
   ]
  },
  {
   "cell_type": "markdown",
   "id": "7426540a",
   "metadata": {
    "papermill": {
     "duration": 0.027929,
     "end_time": "2022-02-05T10:05:35.465421",
     "exception": false,
     "start_time": "2022-02-05T10:05:35.437492",
     "status": "completed"
    },
    "tags": []
   },
   "source": [
    "<a id=\"6\"></a>\n",
    "<h2><span style=\"color:#cd7551;font-weight:bold\"> Patient Notes </span></h2>"
   ]
  },
  {
   "cell_type": "markdown",
   "id": "ad364f7c",
   "metadata": {
    "papermill": {
     "duration": 0.027303,
     "end_time": "2022-02-05T10:05:35.520337",
     "exception": false,
     "start_time": "2022-02-05T10:05:35.493034",
     "status": "completed"
    },
    "tags": []
   },
   "source": [
    "A collection of about 40,000 Patient Note history portions. Only a subset of these have features annotated. You may wish to apply unsupervised learning techniques on the notes without annotations. The patient notes in the test set are not included in the public version of this file.\n",
    "<ul><li><code>pn_num</code> - A unique identifier for each patient note.</li>\n",
    "<li><code>case_num</code> - A unique identifier for the clinical case a patient note represents.</li>\n",
    "<li><code>pn_history</code> - The text of the encounter as recorded by the test taker.</li></ul></li>"
   ]
  },
  {
   "cell_type": "code",
   "execution_count": 11,
   "id": "51f985e5",
   "metadata": {
    "execution": {
     "iopub.execute_input": "2022-02-05T10:05:35.579751Z",
     "iopub.status.busy": "2022-02-05T10:05:35.578761Z",
     "iopub.status.idle": "2022-02-05T10:05:35.590275Z",
     "shell.execute_reply": "2022-02-05T10:05:35.590896Z",
     "shell.execute_reply.started": "2022-02-05T08:56:05.963356Z"
    },
    "papermill": {
     "duration": 0.043,
     "end_time": "2022-02-05T10:05:35.591083",
     "exception": false,
     "start_time": "2022-02-05T10:05:35.548083",
     "status": "completed"
    },
    "tags": []
   },
   "outputs": [
    {
     "data": {
      "text/html": [
       "<div>\n",
       "<style scoped>\n",
       "    .dataframe tbody tr th:only-of-type {\n",
       "        vertical-align: middle;\n",
       "    }\n",
       "\n",
       "    .dataframe tbody tr th {\n",
       "        vertical-align: top;\n",
       "    }\n",
       "\n",
       "    .dataframe thead th {\n",
       "        text-align: right;\n",
       "    }\n",
       "</style>\n",
       "<table border=\"1\" class=\"dataframe\">\n",
       "  <thead>\n",
       "    <tr style=\"text-align: right;\">\n",
       "      <th></th>\n",
       "      <th>pn_num</th>\n",
       "      <th>case_num</th>\n",
       "      <th>pn_history</th>\n",
       "    </tr>\n",
       "  </thead>\n",
       "  <tbody>\n",
       "    <tr>\n",
       "      <th>0</th>\n",
       "      <td>0</td>\n",
       "      <td>0</td>\n",
       "      <td>17-year-old male, has come to the student heal...</td>\n",
       "    </tr>\n",
       "    <tr>\n",
       "      <th>1</th>\n",
       "      <td>1</td>\n",
       "      <td>0</td>\n",
       "      <td>17 yo male with recurrent palpitations for the...</td>\n",
       "    </tr>\n",
       "    <tr>\n",
       "      <th>2</th>\n",
       "      <td>2</td>\n",
       "      <td>0</td>\n",
       "      <td>Dillon Cleveland is a 17 y.o. male patient wit...</td>\n",
       "    </tr>\n",
       "    <tr>\n",
       "      <th>3</th>\n",
       "      <td>3</td>\n",
       "      <td>0</td>\n",
       "      <td>a 17 yo m c/o palpitation started 3 mos ago; \\...</td>\n",
       "    </tr>\n",
       "    <tr>\n",
       "      <th>4</th>\n",
       "      <td>4</td>\n",
       "      <td>0</td>\n",
       "      <td>17yo male with no pmh here for evaluation of p...</td>\n",
       "    </tr>\n",
       "    <tr>\n",
       "      <th>...</th>\n",
       "      <td>...</td>\n",
       "      <td>...</td>\n",
       "      <td>...</td>\n",
       "    </tr>\n",
       "    <tr>\n",
       "      <th>42141</th>\n",
       "      <td>95330</td>\n",
       "      <td>9</td>\n",
       "      <td>Ms. Madden is a 20 yo female presenting w/ the...</td>\n",
       "    </tr>\n",
       "    <tr>\n",
       "      <th>42142</th>\n",
       "      <td>95331</td>\n",
       "      <td>9</td>\n",
       "      <td>A 20 YO F CAME COMPLAIN A DULL 8/10 HEADACHE T...</td>\n",
       "    </tr>\n",
       "    <tr>\n",
       "      <th>42143</th>\n",
       "      <td>95332</td>\n",
       "      <td>9</td>\n",
       "      <td>Ms. Madden is a 20yo female who presents with ...</td>\n",
       "    </tr>\n",
       "    <tr>\n",
       "      <th>42144</th>\n",
       "      <td>95333</td>\n",
       "      <td>9</td>\n",
       "      <td>Stephanie madden is a 20 year old woman compla...</td>\n",
       "    </tr>\n",
       "    <tr>\n",
       "      <th>42145</th>\n",
       "      <td>95334</td>\n",
       "      <td>9</td>\n",
       "      <td>patient is a 20 yo F who presents with a heada...</td>\n",
       "    </tr>\n",
       "  </tbody>\n",
       "</table>\n",
       "<p>42146 rows × 3 columns</p>\n",
       "</div>"
      ],
      "text/plain": [
       "       pn_num  case_num                                         pn_history\n",
       "0           0         0  17-year-old male, has come to the student heal...\n",
       "1           1         0  17 yo male with recurrent palpitations for the...\n",
       "2           2         0  Dillon Cleveland is a 17 y.o. male patient wit...\n",
       "3           3         0  a 17 yo m c/o palpitation started 3 mos ago; \\...\n",
       "4           4         0  17yo male with no pmh here for evaluation of p...\n",
       "...       ...       ...                                                ...\n",
       "42141   95330         9  Ms. Madden is a 20 yo female presenting w/ the...\n",
       "42142   95331         9  A 20 YO F CAME COMPLAIN A DULL 8/10 HEADACHE T...\n",
       "42143   95332         9  Ms. Madden is a 20yo female who presents with ...\n",
       "42144   95333         9  Stephanie madden is a 20 year old woman compla...\n",
       "42145   95334         9  patient is a 20 yo F who presents with a heada...\n",
       "\n",
       "[42146 rows x 3 columns]"
      ]
     },
     "execution_count": 11,
     "metadata": {},
     "output_type": "execute_result"
    }
   ],
   "source": [
    "pn_df"
   ]
  },
  {
   "cell_type": "code",
   "execution_count": 12,
   "id": "54759895",
   "metadata": {
    "execution": {
     "iopub.execute_input": "2022-02-05T10:05:35.652283Z",
     "iopub.status.busy": "2022-02-05T10:05:35.651314Z",
     "iopub.status.idle": "2022-02-05T10:05:35.665011Z",
     "shell.execute_reply": "2022-02-05T10:05:35.665530Z",
     "shell.execute_reply.started": "2022-02-05T08:56:05.980702Z"
    },
    "papermill": {
     "duration": 0.045838,
     "end_time": "2022-02-05T10:05:35.665719",
     "exception": false,
     "start_time": "2022-02-05T10:05:35.619881",
     "status": "completed"
    },
    "tags": []
   },
   "outputs": [
    {
     "name": "stdout",
     "output_type": "stream",
     "text": [
      "\u001b[93mPatient Notes got 42146 rows and 3 columns. It has 0 missing values.\n"
     ]
    }
   ],
   "source": [
    "print(f'\\033[93mPatient Notes got {pn_df.shape[0]} rows and {pn_df.shape[1]} columns. It has {pn_df.isna().sum().sum()} missing values.')"
   ]
  },
  {
   "cell_type": "code",
   "execution_count": 13,
   "id": "f61418be",
   "metadata": {
    "execution": {
     "iopub.execute_input": "2022-02-05T10:05:35.726782Z",
     "iopub.status.busy": "2022-02-05T10:05:35.726083Z",
     "iopub.status.idle": "2022-02-05T10:05:35.837499Z",
     "shell.execute_reply": "2022-02-05T10:05:35.836969Z",
     "shell.execute_reply.started": "2022-02-05T08:56:06.002542Z"
    },
    "papermill": {
     "duration": 0.14319,
     "end_time": "2022-02-05T10:05:35.837657",
     "exception": false,
     "start_time": "2022-02-05T10:05:35.694467",
     "status": "completed"
    },
    "tags": []
   },
   "outputs": [
    {
     "data": {
      "text/plain": [
       "pn_num        42146\n",
       "case_num         10\n",
       "pn_history    42146\n",
       "dtype: int64"
      ]
     },
     "execution_count": 13,
     "metadata": {},
     "output_type": "execute_result"
    }
   ],
   "source": [
    "pn_df.nunique()"
   ]
  },
  {
   "cell_type": "code",
   "execution_count": 14,
   "id": "64deef84",
   "metadata": {
    "_kg_hide-input": true,
    "execution": {
     "iopub.execute_input": "2022-02-05T10:05:35.899705Z",
     "iopub.status.busy": "2022-02-05T10:05:35.899041Z",
     "iopub.status.idle": "2022-02-05T10:05:36.162246Z",
     "shell.execute_reply": "2022-02-05T10:05:36.161686Z",
     "shell.execute_reply.started": "2022-02-05T09:50:36.150562Z"
    },
    "papermill": {
     "duration": 0.295225,
     "end_time": "2022-02-05T10:05:36.162389",
     "exception": false,
     "start_time": "2022-02-05T10:05:35.867164",
     "status": "completed"
    },
    "tags": []
   },
   "outputs": [
    {
     "data": {
      "image/png": "[encoded data removed]",
      "text/plain": [
       "<Figure size 720x432 with 1 Axes>"
      ]
     },
     "metadata": {
      "needs_background": "light"
     },
     "output_type": "display_data"
    }
   ],
   "source": [
    "#plot\n",
    "A = sns.countplot(pn_df['case_num'],color=colors[1],edgecolor='white',linewidth=1.5,saturation=1.5)\n",
    "\n",
    "#Patch\n",
    "patch_h = []    \n",
    "for patch in A.patches:\n",
    "    reading = patch.get_height()\n",
    "    patch_h.append(reading)\n",
    "    \n",
    "idx_tallest = np.argmax(patch_h)    \n",
    "A.patches[idx_tallest].set_facecolor(colors[3])\n",
    "\n",
    "#Lables\n",
    "plt.ylabel('Count', weight='semibold', fontname = 'Georgia')\n",
    "plt.xlabel('Cases', weight='semibold', fontname = 'Georgia')\n",
    "plt.suptitle('Patient Notes', fontname = 'Georgia', weight='bold', size = 18, color = colors[2])\n",
    "A.bar_label(A.containers[0], label_type='edge')\n",
    "\n",
    "plt.show()"
   ]
  },
  {
   "cell_type": "code",
   "execution_count": 15,
   "id": "31e2bd8a",
   "metadata": {
    "_kg_hide-input": true,
    "execution": {
     "iopub.execute_input": "2022-02-05T10:05:36.228254Z",
     "iopub.status.busy": "2022-02-05T10:05:36.227577Z",
     "iopub.status.idle": "2022-02-05T10:05:36.229524Z",
     "shell.execute_reply": "2022-02-05T10:05:36.230112Z",
     "shell.execute_reply.started": "2022-02-05T09:44:53.210669Z"
    },
    "papermill": {
     "duration": 0.037151,
     "end_time": "2022-02-05T10:05:36.230273",
     "exception": false,
     "start_time": "2022-02-05T10:05:36.193122",
     "status": "completed"
    },
    "tags": []
   },
   "outputs": [],
   "source": [
    "#creating a function for patient notes\n",
    "def patient_note(patient_no):\n",
    "    note = pn_df[\"pn_history\"].iloc[patient_no]\n",
    "    print(f'\\033[94m{note}')"
   ]
  },
  {
   "cell_type": "code",
   "execution_count": 16,
   "id": "f56db2e6",
   "metadata": {
    "execution": {
     "iopub.execute_input": "2022-02-05T10:05:36.293524Z",
     "iopub.status.busy": "2022-02-05T10:05:36.292894Z",
     "iopub.status.idle": "2022-02-05T10:05:36.296839Z",
     "shell.execute_reply": "2022-02-05T10:05:36.297526Z",
     "shell.execute_reply.started": "2022-02-05T09:45:50.803293Z"
    },
    "papermill": {
     "duration": 0.03754,
     "end_time": "2022-02-05T10:05:36.297759",
     "exception": false,
     "start_time": "2022-02-05T10:05:36.260219",
     "status": "completed"
    },
    "tags": []
   },
   "outputs": [
    {
     "name": "stdout",
     "output_type": "stream",
     "text": [
      "\u001b[94mc/o: \"stomach problem\"\r\n",
      "HPI: 35 yo previously healthy man presented with epigastirc pain for 2 months. The pain is new-onset, 5/10, intermitten, burnning, associted with nausea,  usually last about 1-2hrs, and getting progressively worse. Pt had tried tummes that helped a little and nothing really makes the pain worse. no association with food. the pain wakes him up at night. also noted stool is darker brown than usual since two weeks ago, no mucus or bright red blood. no fever, chills, vomiting. \r\n",
      "PMH: chronic back pain\r\n",
      "allergy: none\r\n",
      "Meds: motrin once/week for the back pain\r\n",
      "PSH/hospitalization: none\r\n",
      "FH: uncle with bleeding ulcer\r\n",
      "SH: recently divorced, live by himself, smokes 1/2 to 1 ppd for the past 20 yrs. used to drink 1-2 beer/week but no drinking since onset of epigastric pain, never had recreational drug use\r\n",
      "ROS: see HPI\n"
     ]
    }
   ],
   "source": [
    "patient_note(9000)"
   ]
  },
  {
   "cell_type": "markdown",
   "id": "4929d37c",
   "metadata": {
    "papermill": {
     "duration": 0.029989,
     "end_time": "2022-02-05T10:05:36.359232",
     "exception": false,
     "start_time": "2022-02-05T10:05:36.329243",
     "status": "completed"
    },
    "tags": []
   },
   "source": [
    "<a id=\"7\"></a>\n",
    "<h2><span style=\"color:#cd7551;font-weight:bold\"> Features </span></h2>"
   ]
  },
  {
   "cell_type": "markdown",
   "id": "08fbd59f",
   "metadata": {
    "papermill": {
     "duration": 0.029892,
     "end_time": "2022-02-05T10:05:36.419264",
     "exception": false,
     "start_time": "2022-02-05T10:05:36.389372",
     "status": "completed"
    },
    "tags": []
   },
   "source": [
    "The rubric of features (or key concepts) for each clinical case.\n",
    "<ul><li><code>feature_num</code> - A unique identifier for each feature.</li>\n",
    "<li><code>case_num</code> - A unique identifier for each case.</li>\n",
    "<li><code>feature_text</code> - A description of the feature.</li></ul></li>"
   ]
  },
  {
   "cell_type": "code",
   "execution_count": 17,
   "id": "4b8b6c2c",
   "metadata": {
    "execution": {
     "iopub.execute_input": "2022-02-05T10:05:36.483330Z",
     "iopub.status.busy": "2022-02-05T10:05:36.482719Z",
     "iopub.status.idle": "2022-02-05T10:05:36.493718Z",
     "shell.execute_reply": "2022-02-05T10:05:36.494183Z",
     "shell.execute_reply.started": "2022-02-05T08:56:06.384970Z"
    },
    "papermill": {
     "duration": 0.044918,
     "end_time": "2022-02-05T10:05:36.494360",
     "exception": false,
     "start_time": "2022-02-05T10:05:36.449442",
     "status": "completed"
    },
    "tags": []
   },
   "outputs": [
    {
     "data": {
      "text/html": [
       "<div>\n",
       "<style scoped>\n",
       "    .dataframe tbody tr th:only-of-type {\n",
       "        vertical-align: middle;\n",
       "    }\n",
       "\n",
       "    .dataframe tbody tr th {\n",
       "        vertical-align: top;\n",
       "    }\n",
       "\n",
       "    .dataframe thead th {\n",
       "        text-align: right;\n",
       "    }\n",
       "</style>\n",
       "<table border=\"1\" class=\"dataframe\">\n",
       "  <thead>\n",
       "    <tr style=\"text-align: right;\">\n",
       "      <th></th>\n",
       "      <th>feature_num</th>\n",
       "      <th>case_num</th>\n",
       "      <th>feature_text</th>\n",
       "    </tr>\n",
       "  </thead>\n",
       "  <tbody>\n",
       "    <tr>\n",
       "      <th>0</th>\n",
       "      <td>0</td>\n",
       "      <td>0</td>\n",
       "      <td>Family-history-of-MI-OR-Family-history-of-myoc...</td>\n",
       "    </tr>\n",
       "    <tr>\n",
       "      <th>1</th>\n",
       "      <td>1</td>\n",
       "      <td>0</td>\n",
       "      <td>Family-history-of-thyroid-disorder</td>\n",
       "    </tr>\n",
       "    <tr>\n",
       "      <th>2</th>\n",
       "      <td>2</td>\n",
       "      <td>0</td>\n",
       "      <td>Chest-pressure</td>\n",
       "    </tr>\n",
       "    <tr>\n",
       "      <th>3</th>\n",
       "      <td>3</td>\n",
       "      <td>0</td>\n",
       "      <td>Intermittent-symptoms</td>\n",
       "    </tr>\n",
       "    <tr>\n",
       "      <th>4</th>\n",
       "      <td>4</td>\n",
       "      <td>0</td>\n",
       "      <td>Lightheaded</td>\n",
       "    </tr>\n",
       "    <tr>\n",
       "      <th>...</th>\n",
       "      <td>...</td>\n",
       "      <td>...</td>\n",
       "      <td>...</td>\n",
       "    </tr>\n",
       "    <tr>\n",
       "      <th>138</th>\n",
       "      <td>912</td>\n",
       "      <td>9</td>\n",
       "      <td>Family-history-of-migraines</td>\n",
       "    </tr>\n",
       "    <tr>\n",
       "      <th>139</th>\n",
       "      <td>913</td>\n",
       "      <td>9</td>\n",
       "      <td>Female</td>\n",
       "    </tr>\n",
       "    <tr>\n",
       "      <th>140</th>\n",
       "      <td>914</td>\n",
       "      <td>9</td>\n",
       "      <td>Photophobia</td>\n",
       "    </tr>\n",
       "    <tr>\n",
       "      <th>141</th>\n",
       "      <td>915</td>\n",
       "      <td>9</td>\n",
       "      <td>No-known-illness-contacts</td>\n",
       "    </tr>\n",
       "    <tr>\n",
       "      <th>142</th>\n",
       "      <td>916</td>\n",
       "      <td>9</td>\n",
       "      <td>Subjective-fever</td>\n",
       "    </tr>\n",
       "  </tbody>\n",
       "</table>\n",
       "<p>143 rows × 3 columns</p>\n",
       "</div>"
      ],
      "text/plain": [
       "     feature_num  case_num                                       feature_text\n",
       "0              0         0  Family-history-of-MI-OR-Family-history-of-myoc...\n",
       "1              1         0                 Family-history-of-thyroid-disorder\n",
       "2              2         0                                     Chest-pressure\n",
       "3              3         0                              Intermittent-symptoms\n",
       "4              4         0                                        Lightheaded\n",
       "..           ...       ...                                                ...\n",
       "138          912         9                        Family-history-of-migraines\n",
       "139          913         9                                             Female\n",
       "140          914         9                                        Photophobia\n",
       "141          915         9                          No-known-illness-contacts\n",
       "142          916         9                                   Subjective-fever\n",
       "\n",
       "[143 rows x 3 columns]"
      ]
     },
     "execution_count": 17,
     "metadata": {},
     "output_type": "execute_result"
    }
   ],
   "source": [
    "feat_df"
   ]
  },
  {
   "cell_type": "code",
   "execution_count": 18,
   "id": "503696df",
   "metadata": {
    "execution": {
     "iopub.execute_input": "2022-02-05T10:05:36.559195Z",
     "iopub.status.busy": "2022-02-05T10:05:36.558530Z",
     "iopub.status.idle": "2022-02-05T10:05:36.564217Z",
     "shell.execute_reply": "2022-02-05T10:05:36.564727Z",
     "shell.execute_reply.started": "2022-02-05T08:56:06.404149Z"
    },
    "papermill": {
     "duration": 0.039738,
     "end_time": "2022-02-05T10:05:36.564895",
     "exception": false,
     "start_time": "2022-02-05T10:05:36.525157",
     "status": "completed"
    },
    "tags": []
   },
   "outputs": [
    {
     "name": "stdout",
     "output_type": "stream",
     "text": [
      "\u001b[93mFeatures Dataframe got 143 rows and 3 columns. It has 0 missing values\n"
     ]
    }
   ],
   "source": [
    "print(f'\\033[93mFeatures Dataframe got {feat_df.shape[0]} rows and {feat_df.shape[1]} columns. It has {feat_df.isna().sum().sum()} missing values')"
   ]
  },
  {
   "cell_type": "code",
   "execution_count": 19,
   "id": "0231ef66",
   "metadata": {
    "execution": {
     "iopub.execute_input": "2022-02-05T10:05:36.630605Z",
     "iopub.status.busy": "2022-02-05T10:05:36.629963Z",
     "iopub.status.idle": "2022-02-05T10:05:36.636532Z",
     "shell.execute_reply": "2022-02-05T10:05:36.637029Z",
     "shell.execute_reply.started": "2022-02-05T08:56:06.410800Z"
    },
    "papermill": {
     "duration": 0.041183,
     "end_time": "2022-02-05T10:05:36.637194",
     "exception": false,
     "start_time": "2022-02-05T10:05:36.596011",
     "status": "completed"
    },
    "tags": []
   },
   "outputs": [
    {
     "data": {
      "text/plain": [
       "feature_num     143\n",
       "case_num         10\n",
       "feature_text    131\n",
       "dtype: int64"
      ]
     },
     "execution_count": 19,
     "metadata": {},
     "output_type": "execute_result"
    }
   ],
   "source": [
    "feat_df.nunique()"
   ]
  },
  {
   "cell_type": "code",
   "execution_count": 20,
   "id": "4a928520",
   "metadata": {
    "_kg_hide-input": true,
    "execution": {
     "iopub.execute_input": "2022-02-05T10:05:36.703879Z",
     "iopub.status.busy": "2022-02-05T10:05:36.702926Z",
     "iopub.status.idle": "2022-02-05T10:05:36.966193Z",
     "shell.execute_reply": "2022-02-05T10:05:36.966685Z",
     "shell.execute_reply.started": "2022-02-05T09:51:22.385346Z"
    },
    "papermill": {
     "duration": 0.298204,
     "end_time": "2022-02-05T10:05:36.966872",
     "exception": false,
     "start_time": "2022-02-05T10:05:36.668668",
     "status": "completed"
    },
    "tags": []
   },
   "outputs": [
    {
     "data": {
      "image/png": "[encoded data removed]",
      "text/plain": [
       "<Figure size 720x432 with 1 Axes>"
      ]
     },
     "metadata": {
      "needs_background": "light"
     },
     "output_type": "display_data"
    }
   ],
   "source": [
    "#plot\n",
    "A = sns.countplot(feat_df['case_num'],\n",
    "              color=colors[1],\n",
    "              edgecolor='white',\n",
    "              linewidth=1.5,\n",
    "              saturation=1.5)\n",
    "\n",
    "\n",
    "#Patch\n",
    "patch_h = []    \n",
    "for patch in A.patches:\n",
    "    reading = patch.get_height()\n",
    "    patch_h.append(reading)\n",
    "    \n",
    "idx_tallest = np.argmax(patch_h)    \n",
    "A.patches[idx_tallest].set_facecolor(colors[3])\n",
    "\n",
    "\n",
    "\n",
    "#Lables\n",
    "plt.ylabel('Count', weight='semibold', fontname = 'Georgia')\n",
    "plt.xlabel('Cases', weight='semibold', fontname = 'Georgia')\n",
    "plt.suptitle('Features', fontname = 'Georgia', weight='bold', size = 18, color = colors[2])\n",
    "A.bar_label(A.containers[0], label_type='edge')\n",
    "\n",
    "plt.show()"
   ]
  },
  {
   "cell_type": "markdown",
   "id": "cf0a802b",
   "metadata": {
    "papermill": {
     "duration": 0.032005,
     "end_time": "2022-02-05T10:05:37.032292",
     "exception": false,
     "start_time": "2022-02-05T10:05:37.000287",
     "status": "completed"
    },
    "tags": []
   },
   "source": [
    "<a id=\"8\"></a>\n",
    "<center><h2><span style=\"color:#e8c195;font-weight:bold\"> <span style=\"background:#070c23\">🛠 Work in Progress </span></span></h2></center>"
   ]
  }
 ],
 "metadata": {
  "kernelspec": {
   "display_name": "Python 3",
   "language": "python",
   "name": "python3"
  },
  "language_info": {
   "codemirror_mode": {
    "name": "ipython",
    "version": 3
   },
   "file_extension": ".py",
   "mimetype": "text/x-python",
   "name": "python",
   "nbconvert_exporter": "python",
   "pygments_lexer": "ipython3",
   "version": "3.7.12"
  },
  "papermill": {
   "default_parameters": {},
   "duration": 16.22841,
   "end_time": "2022-02-05T10:05:37.775901",
   "environment_variables": {},
   "exception": null,
   "input_path": "__notebook__.ipynb",
   "output_path": "__notebook__.ipynb",
   "parameters": {},
   "start_time": "2022-02-05T10:05:21.547491",
   "version": "2.3.3"
  }
 },
 "nbformat": 4,
 "nbformat_minor": 5
}
